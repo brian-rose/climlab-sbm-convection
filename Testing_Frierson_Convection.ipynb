{
 "cells": [
  {
   "cell_type": "code",
   "execution_count": 1,
   "metadata": {},
   "outputs": [
    {
     "name": "stderr",
     "output_type": "stream",
     "text": [
      "/Users/br546577/miniconda3/envs/climlab-courseware/lib/python3.10/site-packages/climlab/convection/akmaev_adjustment.py:142: NumbaDeprecationWarning: \u001b[1mThe 'nopython' keyword argument was not supplied to the 'numba.jit' decorator. The implicit default value for this argument is currently False, but it will be changed to True in Numba 0.59.0. See https://numba.readthedocs.io/en/stable/reference/deprecation.html#deprecation-of-object-mode-fall-back-behaviour-when-using-jit for details.\u001b[0m\n",
      "  Akmaev_adjustment = jit(signature_or_function=Akmaev_adjustment)\n"
     ]
    }
   ],
   "source": [
    "%matplotlib inline\n",
    "import numpy as np\n",
    "import matplotlib.pyplot as plt\n",
    "import climlab"
   ]
  },
  {
   "cell_type": "markdown",
   "metadata": {},
   "source": [
    "Test some of the simpler parts of the module"
   ]
  },
  {
   "cell_type": "code",
   "execution_count": 2,
   "metadata": {},
   "outputs": [
    {
     "name": "stdout",
     "output_type": "stream",
     "text": [
      "9.911891305211338\n",
      "9.911895751953125\n"
     ]
    }
   ],
   "source": [
    "# Do these two methods for calculating saturation vapor pressure agree?\n",
    "\n",
    "import _simplified_betts_miller\n",
    "from climlab.utils.thermo import clausius_clapeyron\n",
    "\n",
    "print(clausius_clapeyron(280.)) \n",
    "print(_simplified_betts_miller.escomp(280.)/100.)"
   ]
  },
  {
   "cell_type": "code",
   "execution_count": 15,
   "metadata": {},
   "outputs": [
    {
     "name": "stdout",
     "output_type": "stream",
     "text": [
      "0.0 0.0 0\n"
     ]
    }
   ],
   "source": [
    "#  Calculate CAPE and CIN for a simple column profile\n",
    "from climlab.utils import constants as const\n",
    "\n",
    "Cp_air = const.cp \n",
    "rdgas = const.Rd \n",
    "rvgas = const.Rv\n",
    "HLv = const.Lhvap \n",
    "kappa = const.kappa \n",
    "es0 = 1.0\n",
    "avgbl = True\n",
    "Grav = const.g\n",
    "\n",
    "num_lev = 30\n",
    "water_depth = 10.\n",
    "\n",
    "full_state = climlab.column_state(water_depth=water_depth, num_lev=num_lev)\n",
    "# set initial conditions -- 24C at the surface, -60C at 200 hPa, isothermal stratosphere\n",
    "strat_idx = 6\n",
    "full_state['Tatm'][:strat_idx] = -60. + const.tempCtoK\n",
    "full_state['Tatm'][strat_idx:] = np.linspace(-60., 42., num_lev-strat_idx) + const.tempCtoK\n",
    "full_state['Ts'][:] = 44. + const.tempCtoK\n",
    "full_state['Tatm']\n",
    "#  Initialize a nearly dry column (small background stratospheric humidity)\n",
    "full_state['q'] = 0.*full_state.Tatm + 5.E-6\n",
    "temperature_state = {'Tatm':full_state.Tatm,'Ts':full_state.Ts}\n",
    "\n",
    "pfull = full_state.Tatm.domain.axes['lev'].points[np.newaxis,np.newaxis,:] * 100\n",
    "phalf = full_state.Tatm.domain.axes['lev'].bounds[np.newaxis,np.newaxis,:] * 100\n",
    "tin = full_state.Tatm[np.newaxis,np.newaxis,:]\n",
    "qin = full_state.q[np.newaxis,np.newaxis,:]\n",
    "\n",
    "#  Call the calccalc routine\n",
    "# !    Output:\n",
    "# !    cape        Convective available potential energy\n",
    "# !    cin         Convective inhibition (if there's no LFC, then this is set \n",
    "# !                to zero)\n",
    "# !    tp          Parcel temperature (set to the environmental temperature \n",
    "# !                where no adjustment)\n",
    "# !    rp          Parcel specific humidity (set to the environmental humidity \n",
    "# !                where no adjustment, and set to the saturation humidity at \n",
    "# !                the parcel temperature below the LCL)\n",
    "# !    klzb        Level of zero buoyancy\n",
    "cape,cin,tp,rp,klzb = _simplified_betts_miller.capecalcnew(num_lev,pfull,phalf,\n",
    "                        Cp_air,rdgas,rvgas,HLv,kappa,es0,tin,qin,avgbl)\n",
    "\n",
    "print(cape, cin, klzb)"
   ]
  },
  {
   "cell_type": "code",
   "execution_count": 16,
   "metadata": {},
   "outputs": [
    {
     "data": {
      "text/plain": [
       "Field([[[-6.10351560e-06, -6.10351560e-06, -6.10351560e-06,\n",
       "         -6.10351560e-06, -6.10351560e-06, -6.10351560e-06,\n",
       "         -6.10351560e-06, -4.77666438e-06, -3.44981316e-06,\n",
       "         -2.12296192e-06, -7.96110726e-07,  5.30740522e-07,\n",
       "          1.85759174e-06,  3.18444296e-06,  4.51129418e-06,\n",
       "          5.83814540e-06,  7.16499665e-06,  8.49184784e-06,\n",
       "          9.81869908e-06,  1.11455503e-05,  1.24724015e-05,\n",
       "          1.37992528e-05,  1.51261040e-05, -1.40646230e-05,\n",
       "         -1.27377717e-05, -1.14109205e-05, -1.00840693e-05,\n",
       "         -8.75721804e-06, -7.43036685e-06, -6.10351560e-06]]])"
      ]
     },
     "execution_count": 16,
     "metadata": {},
     "output_type": "execute_result"
    }
   ],
   "source": [
    "# Check to see if the parcel temperature is different from initial temperature\n",
    "tp - tin"
   ]
  },
  {
   "cell_type": "code",
   "execution_count": 17,
   "metadata": {},
   "outputs": [
    {
     "name": "stdout",
     "output_type": "stream",
     "text": [
      "23434.041015625 -0.6649989485740662 3\n"
     ]
    }
   ],
   "source": [
    "# Now add moisture\n",
    "saturation = climlab.utils.thermo.qsat(full_state['Tatm'], full_state['Tatm'].domain.axes['lev'].points)\n",
    "full_state['q'][10:] = 0.8*saturation[10:]\n",
    "cape,cin,tp,rp,klzb = _simplified_betts_miller.capecalcnew(num_lev,pfull,phalf,\n",
    "                        Cp_air,rdgas,rvgas,HLv,kappa,es0,tin,qin,avgbl)\n",
    "print(cape, cin, klzb)"
   ]
  },
  {
   "cell_type": "code",
   "execution_count": 6,
   "metadata": {},
   "outputs": [
    {
     "data": {
      "text/plain": [
       "Field([[[-6.10351560e-06, -1.32115082e+01,  1.64967285e+01,\n",
       "          3.30463654e+01,  4.32079407e+01,  5.03613220e+01,\n",
       "          5.58666931e+01,  5.59133558e+01,  5.52649807e+01,\n",
       "          5.41142252e+01,  5.25832512e+01,  5.07543035e+01,\n",
       "          4.86853351e+01,  4.64187654e+01,  4.39865768e+01,\n",
       "          4.14135190e+01,  3.87190623e+01,  3.59188928e+01,\n",
       "          3.30257667e+01,  3.00502736e+01,  2.70012637e+01,\n",
       "          2.38862138e+01,  2.07114714e+01,  1.74825299e+01,\n",
       "          1.42041193e+01,  1.08803902e+01,  7.51497405e+00,\n",
       "          4.11110574e+00,  6.71592911e-01, -6.78289795e-01]]])"
      ]
     },
     "execution_count": 6,
     "metadata": {},
     "output_type": "execute_result"
    }
   ],
   "source": [
    "tp - tin"
   ]
  },
  {
   "cell_type": "markdown",
   "metadata": {},
   "source": [
    "So at 80% relative humidity throughout the troposphere, there is positive CAPE and negative CIN in this sounding."
   ]
  },
  {
   "cell_type": "markdown",
   "metadata": {},
   "source": [
    "### Call the convection module"
   ]
  },
  {
   "cell_type": "code",
   "execution_count": 18,
   "metadata": {},
   "outputs": [],
   "source": [
    "dt = const.seconds_per_hour * 3\n",
    "tau_bm=7200.\n",
    "rhbm=0.8\n",
    "do_simp=True\n",
    "do_shallower=False\n",
    "do_changeqref=False\n",
    "do_envsat=False\n",
    "do_taucape=False\n",
    "capetaubm=900.\n",
    "tau_min=2400.\n",
    "ix = 1; jx = 1; kx = num_lev\n",
    "\n",
    "rain, tdel, qdel, q_ref, bmflag, klzbs, cape, cin, t_ref, invtau_bm_t, invtau_bm_q, capeflag = \\\n",
    "    _simplified_betts_miller.betts_miller(dt, tin, qin, pfull, phalf, HLv, Cp_air, Grav,\n",
    "                                          rdgas,rvgas,kappa, es0, tau_bm, rhbm, \n",
    "                                          do_simp, do_shallower, do_changeqref, \n",
    "                                          do_envsat, do_taucape, capetaubm, tau_min, \n",
    "                                          ix, jx, kx,)"
   ]
  },
  {
   "cell_type": "code",
   "execution_count": 19,
   "metadata": {},
   "outputs": [
    {
     "data": {
      "text/plain": [
       "array([[28433.598]], dtype=float32)"
      ]
     },
     "execution_count": 19,
     "metadata": {},
     "output_type": "execute_result"
    }
   ],
   "source": [
    "cape"
   ]
  },
  {
   "cell_type": "code",
   "execution_count": 20,
   "metadata": {},
   "outputs": [
    {
     "data": {
      "text/plain": [
       "array([[0.]], dtype=float32)"
      ]
     },
     "execution_count": 20,
     "metadata": {},
     "output_type": "execute_result"
    }
   ],
   "source": [
    "rain"
   ]
  },
  {
   "cell_type": "markdown",
   "metadata": {},
   "source": [
    "There is positive CAPE but no rain is generated here."
   ]
  },
  {
   "cell_type": "markdown",
   "metadata": {},
   "source": [
    "## Coupling to climlab processes"
   ]
  },
  {
   "cell_type": "code",
   "execution_count": 24,
   "metadata": {},
   "outputs": [],
   "source": [
    "# We have wrapped the SBM code in a climlab process:\n",
    "from simplified_betts_miller import SimplifiedBettsMiller"
   ]
  },
  {
   "cell_type": "code",
   "execution_count": 25,
   "metadata": {},
   "outputs": [],
   "source": [
    "from climlab.surface import SensibleHeatFlux, LatentHeatFlux\n",
    "from climlab.radiation import RRTMG, DailyInsolation, AnnualMeanInsolation\n",
    "from climlab import couple\n",
    "from climlab.utils import constants as const"
   ]
  },
  {
   "cell_type": "code",
   "execution_count": 32,
   "metadata": {},
   "outputs": [],
   "source": [
    "num_lev = 30\n",
    "water_depth = 10.\n",
    "short_timestep = const.seconds_per_hour * 3\n",
    "long_timestep = short_timestep*3\n",
    "insolation = 360. #345.\n",
    "albedo = 0.18\n",
    "\n",
    "full_state = climlab.column_state(water_depth=water_depth, num_lev=num_lev)\n",
    "# set initial conditions -- 24C at the surface, -60C at 200 hPa, isothermal stratosphere\n",
    "strat_idx = 6\n",
    "full_state['Tatm'][:strat_idx] = -60. + const.tempCtoK\n",
    "full_state['Tatm'][strat_idx:] = np.linspace(-60, 22, num_lev-strat_idx) + const.tempCtoK\n",
    "full_state['Ts'][:] = 24. + const.tempCtoK\n",
    "full_state['Tatm']\n",
    "#  Initialize a nearly dry column (small background stratospheric humidity)\n",
    "full_state['q'] = 0.*full_state.Tatm + 5.E-6\n",
    "saturation = climlab.utils.thermo.qsat(full_state['Tatm'], full_state['Tatm'].domain.axes['lev'].points)\n",
    "full_state['q'] = 0.8 * saturation\n",
    "temperature_state = {'Tatm':full_state.Tatm,'Ts':full_state.Ts}\n",
    "#  Surface model\n",
    "shf = SensibleHeatFlux(name='Sensible Heat Flux',\n",
    "                       state=temperature_state, Cd=3E-3,\n",
    "                       timestep=short_timestep)\n",
    "lhf = LatentHeatFlux(name='Latent Heat Flux',\n",
    "                     state=full_state, Cd=3E-3,\n",
    "                     timestep=short_timestep)\n",
    "surface = couple([shf,lhf], name=\"Slab\")\n",
    "#  Convection scheme -- water vapor is a state variable\n",
    "conv = SimplifiedBettsMiller(name='Convection',\n",
    "                         state=full_state,\n",
    "                         timestep=short_timestep,\n",
    "                         )  \n",
    "\n",
    "rad = RRTMG(name='Radiation',\n",
    "                state=temperature_state,\n",
    "                specific_humidity=full_state.q,\n",
    "                albedo=albedo,\n",
    "                insolation=insolation,\n",
    "                timestep=long_timestep,\n",
    "                icld=0, # no clouds\n",
    "                )\n",
    "atm = couple([rad, conv], name='Atmosphere')\n",
    "moistmodel = couple([atm,surface], name='Moist column model')"
   ]
  },
  {
   "cell_type": "code",
   "execution_count": 33,
   "metadata": {},
   "outputs": [
    {
     "name": "stdout",
     "output_type": "stream",
     "text": [
      "climlab Process of type <class 'climlab.process.time_dependent_process.TimeDependentProcess'>. \n",
      "State variables and domain shapes: \n",
      "  Tatm: (30,) \n",
      "  Ts: (1,) \n",
      "  q: (30,) \n",
      "The subprocess tree: \n",
      "Moist column model: <class 'climlab.process.time_dependent_process.TimeDependentProcess'>\n",
      "   Atmosphere: <class 'climlab.process.time_dependent_process.TimeDependentProcess'>\n",
      "      Radiation: <class 'climlab.radiation.rrtm.rrtmg.RRTMG'>\n",
      "         SW: <class 'climlab.radiation.rrtm.rrtmg_sw.RRTMG_SW'>\n",
      "         LW: <class 'climlab.radiation.rrtm.rrtmg_lw.RRTMG_LW'>\n",
      "      Convection: <class 'simplified_betts_miller.SimplifiedBettsMiller'>\n",
      "   Slab: <class 'climlab.process.time_dependent_process.TimeDependentProcess'>\n",
      "      Sensible Heat Flux: <class 'climlab.surface.turbulent.SensibleHeatFlux'>\n",
      "      Latent Heat Flux: <class 'climlab.surface.turbulent.LatentHeatFlux'>\n",
      "\n"
     ]
    }
   ],
   "source": [
    "print(moistmodel)"
   ]
  },
  {
   "cell_type": "code",
   "execution_count": 35,
   "metadata": {},
   "outputs": [
    {
     "data": {
      "text/plain": [
       "{'Ts': Field([0.]),\n",
       " 'Tatm': Field([0., 0., 0., 0., 0., 0., 0., 0., 0., 0., 0., 0., 0., 0., 0., 0., 0.,\n",
       "        0., 0., 0., 0., 0., 0., 0., 0., 0., 0., 0., 0., 0.]),\n",
       " 'q': Field([0., 0., 0., 0., 0., 0., 0., 0., 0., 0., 0., 0., 0., 0., 0., 0., 0.,\n",
       "        0., 0., 0., 0., 0., 0., 0., 0., 0., 0., 0., 0., 0.])}"
      ]
     },
     "execution_count": 35,
     "metadata": {},
     "output_type": "execute_result"
    }
   ],
   "source": [
    "conv.compute()"
   ]
  },
  {
   "cell_type": "code",
   "execution_count": 36,
   "metadata": {},
   "outputs": [],
   "source": [
    "moistmodel.step_forward()"
   ]
  },
  {
   "cell_type": "code",
   "execution_count": 37,
   "metadata": {},
   "outputs": [
    {
     "name": "stdout",
     "output_type": "stream",
     "text": [
      "Integrating for 240 steps, 30.000000000000004 days, or 0.08213727767492365 years.\n",
      "Total elapsed time is 0.0824795163319025 years.\n"
     ]
    }
   ],
   "source": [
    "moistmodel.integrate_days(30)"
   ]
  },
  {
   "cell_type": "code",
   "execution_count": 38,
   "metadata": {},
   "outputs": [
    {
     "data": {
      "text/plain": [
       "Field([5.65088984e-04, 1.88309078e-04, 1.12978979e-04, 8.06972912e-05,\n",
       "       6.27637044e-05, 5.13516764e-05, 4.34511576e-05, 5.88757869e-05,\n",
       "       7.98738807e-05, 1.08160494e-04, 1.45910339e-04, 1.95848737e-04,\n",
       "       2.61356823e-04, 3.46591146e-04, 4.56618074e-04, 5.97563452e-04,\n",
       "       7.76777969e-04, 1.00301868e-03, 1.28664716e-03, 1.63984481e-03,\n",
       "       2.07684602e-03, 2.61419002e-03, 3.27099283e-03, 4.06924085e-03,\n",
       "       5.03410868e-03, 6.19430430e-03, 7.58244606e-03, 9.23547712e-03,\n",
       "       1.11951250e-02, 2.43050922e-02])"
      ]
     },
     "execution_count": 38,
     "metadata": {},
     "output_type": "execute_result"
    }
   ],
   "source": [
    "moistmodel.q"
   ]
  },
  {
   "cell_type": "code",
   "execution_count": 39,
   "metadata": {},
   "outputs": [
    {
     "name": "stdout",
     "output_type": "stream",
     "text": [
      "Integrating for 2921 steps, 365.2422 days, or 1 years.\n",
      "Total elapsed time is 1.0821586333671191 years.\n"
     ]
    }
   ],
   "source": [
    "moistmodel.integrate_years(1)"
   ]
  },
  {
   "cell_type": "code",
   "execution_count": 40,
   "metadata": {},
   "outputs": [
    {
     "data": {
      "text/plain": [
       "Field([327.97285042])"
      ]
     },
     "execution_count": 40,
     "metadata": {},
     "output_type": "execute_result"
    }
   ],
   "source": [
    "moistmodel.Ts"
   ]
  },
  {
   "cell_type": "code",
   "execution_count": 41,
   "metadata": {},
   "outputs": [
    {
     "data": {
      "text/plain": [
       "array([inf])"
      ]
     },
     "execution_count": 41,
     "metadata": {},
     "output_type": "execute_result"
    }
   ],
   "source": [
    "moistmodel.cape"
   ]
  },
  {
   "cell_type": "code",
   "execution_count": 42,
   "metadata": {},
   "outputs": [
    {
     "data": {
      "text/plain": [
       "Field([5.65088984e-04, 1.88309078e-04, 1.12978979e-04, 8.06972912e-05,\n",
       "       6.27637044e-05, 5.13516764e-05, 4.34511576e-05, 5.88757869e-05,\n",
       "       7.98738807e-05, 1.08160494e-04, 1.45910339e-04, 1.95848737e-04,\n",
       "       2.61356823e-04, 3.46591146e-04, 4.56618074e-04, 5.97563452e-04,\n",
       "       7.76777969e-04, 1.00301868e-03, 1.28664716e-03, 1.63984481e-03,\n",
       "       2.07684602e-03, 2.61419002e-03, 3.27099283e-03, 4.06924085e-03,\n",
       "       5.03410868e-03, 6.19430430e-03, 7.58244606e-03, 9.23547712e-03,\n",
       "       1.11951250e-02, 1.03880791e-01])"
      ]
     },
     "execution_count": 42,
     "metadata": {},
     "output_type": "execute_result"
    }
   ],
   "source": [
    "moistmodel.q"
   ]
  },
  {
   "cell_type": "markdown",
   "metadata": {},
   "source": [
    "This runs without blowing up now, but why isn't the atmosphere getting moister above the first level?"
   ]
  },
  {
   "cell_type": "code",
   "execution_count": 43,
   "metadata": {},
   "outputs": [
    {
     "data": {
      "text/plain": [
       "{'precipitation': array([0.]), 'cape': array([inf]), 'cin': array([0.])}"
      ]
     },
     "execution_count": 43,
     "metadata": {},
     "output_type": "execute_result"
    }
   ],
   "source": [
    "conv.diagnostics"
   ]
  },
  {
   "cell_type": "code",
   "execution_count": 44,
   "metadata": {},
   "outputs": [
    {
     "data": {
      "text/plain": [
       "{'Tatm': Field([209.62813265, 206.3564058 , 205.59893026, 207.7182402 ,\n",
       "        208.20682647, 208.87344624, 209.38297534, 209.48164405,\n",
       "        209.92997055, 210.87106146, 212.30822761, 214.20811748,\n",
       "        216.53966037, 219.21502437, 222.094423  , 225.0715327 ,\n",
       "        228.09318026, 231.16061979, 234.39214454, 237.94805981,\n",
       "        241.9686104 , 246.52239351, 251.60410917, 257.12784985,\n",
       "        262.96827544, 269.00403447, 275.25112517, 281.93724645,\n",
       "        289.86093587, 311.60304927]),\n",
       " 'Ts': Field([317.18504283]),\n",
       " 'q': Field([5.65088984e-04, 1.88309078e-04, 1.12978979e-04, 8.06972912e-05,\n",
       "        6.27637044e-05, 5.13516764e-05, 4.34511576e-05, 5.88757869e-05,\n",
       "        7.98738807e-05, 1.08160494e-04, 1.45910339e-04, 1.95848737e-04,\n",
       "        2.61356823e-04, 3.46591146e-04, 4.56618074e-04, 5.97563452e-04,\n",
       "        7.76777969e-04, 1.00301868e-03, 1.28664716e-03, 1.63984481e-03,\n",
       "        2.07684602e-03, 2.61419002e-03, 3.27099283e-03, 4.06924085e-03,\n",
       "        5.03410868e-03, 6.19430430e-03, 7.58244606e-03, 9.23547712e-03,\n",
       "        1.11951250e-02, 6.31112977e-02]),\n",
       " 'OLR': Field([249.48780638]),\n",
       " 'OLRclr': Field([249.48780638]),\n",
       " 'OLRcld': Field([0.]),\n",
       " 'TdotLW': Field([ -4.66845265,  -0.94391523,  -0.4569029 ,  -0.4175529 ,\n",
       "         -0.30374385,  -0.25004309,  -0.21807459,  -0.24846577,\n",
       "         -0.29085867,  -0.34279541,  -0.40299667,  -0.46532633,\n",
       "         -0.52845105,  -0.58705914,  -0.64079519,  -0.69003879,\n",
       "         -0.73258075,  -0.76825995,  -0.79988971,  -0.82526543,\n",
       "         -0.84579255,  -0.86381722,  -0.88357173,  -0.90490414,\n",
       "         -0.92979061,  -0.95403915,  -0.9737771 ,  -0.98898103,\n",
       "         -0.99858137, -27.19447485]),\n",
       " 'TdotLW_clr': Field([ -4.66845265,  -0.94391523,  -0.4569029 ,  -0.4175529 ,\n",
       "         -0.30374385,  -0.25004309,  -0.21807459,  -0.24846577,\n",
       "         -0.29085867,  -0.34279541,  -0.40299667,  -0.46532633,\n",
       "         -0.52845105,  -0.58705914,  -0.64079519,  -0.69003879,\n",
       "         -0.73258075,  -0.76825995,  -0.79988971,  -0.82526543,\n",
       "         -0.84579255,  -0.86381722,  -0.88357173,  -0.90490414,\n",
       "         -0.92979061,  -0.95403915,  -0.9737771 ,  -0.98898103,\n",
       "         -0.99858137, -27.19447485]),\n",
       " 'LW_sfc': Field([51.39132984]),\n",
       " 'LW_sfc_clr': Field([51.39132984]),\n",
       " 'LW_flux_up': Field([249.48780638, 250.98617356, 252.8860419 , 254.66158222,\n",
       "        256.179692  , 257.41510886, 258.49788584, 259.3962436 ,\n",
       "        260.38252548, 261.62139356, 263.20180084, 265.17977355,\n",
       "        267.58584645, 270.43357907, 273.70520637, 277.38845678,\n",
       "        281.49594066, 286.09346897, 291.36094711, 297.56822641,\n",
       "        305.05048729, 314.13748502, 325.09784575, 338.11592856,\n",
       "        353.28551523, 370.67249418, 390.51414047, 413.58400386,\n",
       "        441.9454548 , 493.81960388, 575.70331189]),\n",
       " 'LW_flux_down': Field([  0.        ,  19.95045861,  25.58115843,  29.16261061,\n",
       "         32.33110111,  34.76706762,  36.83814164,  38.5984407 ,\n",
       "         40.56678526,  42.95527423,  45.89058273,  49.46140257,\n",
       "         53.70668102,  58.6431201 ,  64.23510272,  70.45110055,\n",
       "         77.28596753,  84.77902633,  93.08305724, 102.45190617,\n",
       "        113.19603439, 125.62603304, 140.00063733, 156.51104352,\n",
       "        175.25727008, 196.31925283, 219.93174549, 246.85046961,\n",
       "        279.1208749 , 334.94192377, 524.31198204]),\n",
       " 'LW_flux_net': Field([249.48780638, 231.03571496, 227.30488347, 225.49897161,\n",
       "        223.84859089, 222.64804124, 221.65974421, 220.7978029 ,\n",
       "        219.81574022, 218.66611933, 217.31121811, 215.71837098,\n",
       "        213.87916543, 211.79045897, 209.47010365, 206.93735624,\n",
       "        204.20997313, 201.31444264, 198.27788987, 195.11632024,\n",
       "        191.8544529 , 188.51145198, 185.09720843, 181.60488504,\n",
       "        178.02824516, 174.35324134, 170.58239498, 166.73353425,\n",
       "        162.8245799 , 158.87768011,  51.39132984]),\n",
       " 'LW_flux_up_clr': Field([249.48780638, 250.98617356, 252.8860419 , 254.66158222,\n",
       "        256.179692  , 257.41510886, 258.49788584, 259.3962436 ,\n",
       "        260.38252548, 261.62139356, 263.20180084, 265.17977355,\n",
       "        267.58584645, 270.43357907, 273.70520637, 277.38845678,\n",
       "        281.49594066, 286.09346897, 291.36094711, 297.56822641,\n",
       "        305.05048729, 314.13748502, 325.09784575, 338.11592856,\n",
       "        353.28551523, 370.67249418, 390.51414047, 413.58400386,\n",
       "        441.9454548 , 493.81960388, 575.70331189]),\n",
       " 'LW_flux_down_clr': Field([  0.        ,  19.95045861,  25.58115843,  29.16261061,\n",
       "         32.33110111,  34.76706762,  36.83814164,  38.5984407 ,\n",
       "         40.56678526,  42.95527423,  45.89058273,  49.46140257,\n",
       "         53.70668102,  58.6431201 ,  64.23510272,  70.45110055,\n",
       "         77.28596753,  84.77902633,  93.08305724, 102.45190617,\n",
       "        113.19603439, 125.62603304, 140.00063733, 156.51104352,\n",
       "        175.25727008, 196.31925283, 219.93174549, 246.85046961,\n",
       "        279.1208749 , 334.94192377, 524.31198204]),\n",
       " 'LW_flux_net_clr': Field([249.48780638, 231.03571496, 227.30488347, 225.49897161,\n",
       "        223.84859089, 222.64804124, 221.65974421, 220.7978029 ,\n",
       "        219.81574022, 218.66611933, 217.31121811, 215.71837098,\n",
       "        213.87916543, 211.79045897, 209.47010365, 206.93735624,\n",
       "        204.20997313, 201.31444264, 198.27788987, 195.11632024,\n",
       "        191.8544529 , 188.51145198, 185.09720843, 181.60488504,\n",
       "        178.02824516, 174.35324134, 170.58239498, 166.73353425,\n",
       "        162.8245799 , 158.87768011,  51.39132984]),\n",
       " 'ASR': Field([286.02641095]),\n",
       " 'ASRclr': Field([286.02641095]),\n",
       " 'ASRcld': Field([0.]),\n",
       " 'TdotSW': Field([4.66759919, 0.93984479, 0.4494573 , 0.40799354, 0.29232648,\n",
       "        0.23691555, 0.20303635, 0.23108565, 0.27120382, 0.32125871,\n",
       "        0.38011065, 0.4416914 , 0.50466832, 0.56363043, 0.61817378,\n",
       "        0.66861037, 0.71270638, 0.75036611, 0.78445561, 0.81281119,\n",
       "        0.83686868, 0.85895429, 0.88322418, 0.9094041 , 0.93937874,\n",
       "        0.96872812, 0.9935242 , 1.01363532, 1.02799556, 3.59364935]),\n",
       " 'TdotSW_clr': Field([4.66759919, 0.93984479, 0.4494573 , 0.40799354, 0.29232648,\n",
       "        0.23691555, 0.20303635, 0.23108565, 0.27120382, 0.32125871,\n",
       "        0.38011065, 0.4416914 , 0.50466832, 0.56363043, 0.61817378,\n",
       "        0.66861037, 0.71270638, 0.75036611, 0.78445561, 0.81281119,\n",
       "        0.83686868, 0.85895429, 0.88322418, 0.9094041 , 0.93937874,\n",
       "        0.96872812, 0.9935242 , 1.01363532, 1.02799556, 3.59364935]),\n",
       " 'SW_sfc': Field([182.14145334]),\n",
       " 'SW_sfc_clr': Field([182.14145334]),\n",
       " 'SW_flux_up': Field([73.97291103, 73.00265582, 71.60794047, 70.10318287, 68.60926197,\n",
       "        67.14011262, 65.7017699 , 64.29448394, 62.9180423 , 61.57191769,\n",
       "        60.25579299, 58.96848233, 57.70892504, 56.47600632, 55.26872716,\n",
       "        54.08621646, 52.9277652 , 51.79285235, 50.68107128, 49.59215855,\n",
       "        48.52621371, 47.4833566 , 46.46386077, 45.46823312, 44.49721614,\n",
       "        43.55248426, 42.636956  , 41.75429436, 40.90949844, 40.10874097,\n",
       "        39.98227024]),\n",
       " 'SW_flux_down': Field([359.99932198, 340.58034863, 335.47089022, 332.18964956,\n",
       "        329.08313136, 326.45855957, 324.08380651, 321.87401799,\n",
       "        319.58420869, 317.1661491 , 314.58024712, 311.79054647,\n",
       "        308.78520087, 305.55757709, 302.12254477, 298.49669793,\n",
       "        294.69555953, 290.74366978, 286.66606145, 282.47658248,\n",
       "        278.1979958 , 273.84740943, 269.43289082, 264.94631348,\n",
       "        260.38087049, 255.72323762, 250.97880477, 246.16923185,\n",
       "        241.31803531, 236.45411825, 222.12372358]),\n",
       " 'SW_flux_net': Field([286.02641095, 267.57769281, 263.86294976, 262.08646668,\n",
       "        260.47386939, 259.31844695, 258.38203661, 257.57953404,\n",
       "        256.66616639, 255.5942314 , 254.32445413, 252.82206414,\n",
       "        251.07627583, 249.08157078, 246.85381762, 244.41048146,\n",
       "        241.76779433, 238.95081744, 235.98499017, 232.88442393,\n",
       "        229.67178208, 226.36405283, 222.96903005, 219.47808036,\n",
       "        215.88365435, 212.17075336, 208.34184877, 204.4149375 ,\n",
       "        200.40853687, 196.34537729, 182.14145334]),\n",
       " 'SW_flux_up_clr': Field([73.97291103, 73.00265582, 71.60794047, 70.10318287, 68.60926197,\n",
       "        67.14011262, 65.7017699 , 64.29448394, 62.9180423 , 61.57191769,\n",
       "        60.25579299, 58.96848233, 57.70892504, 56.47600632, 55.26872716,\n",
       "        54.08621646, 52.9277652 , 51.79285235, 50.68107128, 49.59215855,\n",
       "        48.52621371, 47.4833566 , 46.46386077, 45.46823312, 44.49721614,\n",
       "        43.55248426, 42.636956  , 41.75429436, 40.90949844, 40.10874097,\n",
       "        39.98227024]),\n",
       " 'SW_flux_down_clr': Field([359.99932198, 340.58034863, 335.47089022, 332.18964956,\n",
       "        329.08313136, 326.45855957, 324.08380651, 321.87401799,\n",
       "        319.58420869, 317.1661491 , 314.58024712, 311.79054647,\n",
       "        308.78520087, 305.55757709, 302.12254477, 298.49669793,\n",
       "        294.69555953, 290.74366978, 286.66606145, 282.47658248,\n",
       "        278.1979958 , 273.84740943, 269.43289082, 264.94631348,\n",
       "        260.38087049, 255.72323762, 250.97880477, 246.16923185,\n",
       "        241.31803531, 236.45411825, 222.12372358]),\n",
       " 'SW_flux_net_clr': Field([286.02641095, 267.57769281, 263.86294976, 262.08646668,\n",
       "        260.47386939, 259.31844695, 258.38203661, 257.57953404,\n",
       "        256.66616639, 255.5942314 , 254.32445413, 252.82206414,\n",
       "        251.07627583, 249.08157078, 246.85381762, 244.41048146,\n",
       "        241.76779433, 238.95081744, 235.98499017, 232.88442393,\n",
       "        229.67178208, 226.36405283, 222.96903005, 219.47808036,\n",
       "        215.88365435, 212.17075336, 208.34184877, 204.4149375 ,\n",
       "        200.40853687, 196.34537729, 182.14145334]),\n",
       " 'precipitation': array([0.]),\n",
       " 'cape': array([inf]),\n",
       " 'cin': array([0.]),\n",
       " 'SHF': Field([93.51187833]),\n",
       " 'LHF': Field([2.14495324]),\n",
       " 'evaporation': Field([8.57981294e-07])}"
      ]
     },
     "execution_count": 44,
     "metadata": {},
     "output_type": "execute_result"
    }
   ],
   "source": [
    "moistmodel.timeave"
   ]
  },
  {
   "cell_type": "code",
   "execution_count": null,
   "metadata": {},
   "outputs": [],
   "source": []
  }
 ],
 "metadata": {
  "kernelspec": {
   "display_name": "Python 3 (ipykernel)",
   "language": "python",
   "name": "python3"
  },
  "language_info": {
   "codemirror_mode": {
    "name": "ipython",
    "version": 3
   },
   "file_extension": ".py",
   "mimetype": "text/x-python",
   "name": "python",
   "nbconvert_exporter": "python",
   "pygments_lexer": "ipython3",
   "version": "3.10.13"
  }
 },
 "nbformat": 4,
 "nbformat_minor": 4
}
